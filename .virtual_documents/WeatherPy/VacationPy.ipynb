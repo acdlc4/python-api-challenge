


# Dependencies and Setup
import hvplot.pandas
import pandas as pd
import requests

## This allows the display of more than one variable in a cell
## without having to explicitly invoke the display command:
from IPython.core.interactiveshell import InteractiveShell
InteractiveShell.ast_node_interactivity = "all"

# Import API key
from api_keys import geoapify_key


# Load the CSV file created in Part 1 into a Pandas DataFrame
city_data_df = pd.read_csv("output_data/cities.csv")

# Display sample data
city_data_df.head()





%%capture --no-display

##Set coordinates data dictionary
coordinates = {"City": city_data_df["City"],
               "latitude": city_data_df["Lat"],
               "longitude": city_data_df["Lng"],
               "Humidity": city_data_df["Humidity"]}

##Convert coordinates dict into DF
coordinates_df = pd.DataFrame(coordinates)

# Configure the map_plot
map_plot = coordinates_df.hvplot.points(
    "longitude",
    "latitude",
    geo = True,
    tiles = "EsriNatGeo",
    frame_width = 700,
    frame_height = 500,
    size = "Humidity",
    scale = 1,
    color = "City")

# Display the map
map_plot





# Narrow down cities that fit criteria and drop any results with null values
city_data_df = city_data_df.dropna()

##Filtering protocol below with several selected factors using my ideal weather conditions
city_filter_df = city_data_df[city_data_df["Cloudiness"] == 0] #Zero cloud cover

##Continuation of above filter with change of code below to daisy-chain changes in newly created DF
city_filter_df = city_filter_df[city_filter_df["Humidity"] <= 80] #Max humidity of 80%
city_filter_df = city_filter_df[city_filter_df["Max Temp"] <= 27] #Maximum 'Max Temp'
city_filter_df = city_filter_df[city_filter_df["Max Temp"] >= 21] #Minimum 'Max Temp'

# Display sample data
city_filter_df





# Use the Pandas copy function to create DataFrame called hotel_df to store the city, country, coordinates, and humidity
hotel_df = city_filter_df[["City",
                           "Country",
                           "Lat",
                           "Lng",
                           "Humidity"]].copy()

# Add an empty column, "Hotel Name," to the DataFrame so you can store the hotel found using the Geoapify API
hotel_df["Hotel Name"] = ""

# Display sample data
hotel_df





# Set parameters to search for a hotel
##Note: coordinates for latitude are + for N / - for S AND for longitude are + for E / - for W

##Initiate search parameters
limit = 20
radius = 10000 #in meters

##Set parameter dictionary
params = {"filter":filters,
          "limit":limit,
          "bias":bias,
          "apiKey":geoapify_key
         }

# Print a message to follow up the hotel search
print("Starting hotel search")

# Iterate through the hotel_df DataFrame
for index, row in hotel_df.iterrows():
    # get latitude, longitude from the DataFrame
    lat  = hotel_df.loc[index,"Lat"]
    long = hotel_df.loc[index,"Lng"]
    
    # Add filter and bias parameters with the current city's latitude and longitude to the params dictionary
    params["filter"] = f"circle:{long},{lat},{radius}"
    params["bias"]   = f"proximity:{long},{lat}"

    ##Added categories filter for selecting only hotel data
    params["categories"] = f"accommodation.hotel"
    
    # Set base URL
    base_url = "https://api.geoapify.com/v2/places"

    # Make and API request using the params dictionaty
    name_address = requests.get(base_url, params=params)
    
    # Convert the API response to JSON format
    name_address = name_address.json()
    
    # Grab the first hotel from the results and store the name in the hotel_df DataFrame
    try:
        hotel_df.loc[index, "Hotel Name"] = name_address["features"][0]["properties"]["name"]
    except (KeyError, IndexError):
        # If no hotel is found, set the hotel name as "No hotel found".
        hotel_df.loc[index, "Hotel Name"] = "No hotel found"
        
    # Log the search results
    print(f"{hotel_df.loc[index, 'City']} - nearest hotel: {hotel_df.loc[index, 'Hotel Name']}")

# Display sample data
hotel_df





%%capture --no-display

# Configure the map plot
coordinates = {"City":       hotel_df["City"],
               "Country":    hotel_df["Country"],
               "Latitude":   hotel_df["Lat"],
               "Longitude":  hotel_df["Lng"],
               "Humidity":   hotel_df["Humidity"],
               "Hotel Name": hotel_df["Hotel Name"]}

##Save configuration into DF
coordinates_df = pd.DataFrame(coordinates)

##Set the map_plot and add the additional hover message details for 1) hotel name and 2) country
hover = ['Humidity','Hotel Name','Country']
map_plot = coordinates_df.hvplot.points(
    "Longitude",
    "Latitude",
    geo = True,
    tiles = "EsriNatGeo",
    frame_width = 700,
    frame_height = 500,
    size = 100,
    color = "City",
    hover_cols = hover)

# Display the map plot
map_plot
